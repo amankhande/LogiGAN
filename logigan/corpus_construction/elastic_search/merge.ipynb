{
 "cells": [
  {
   "cell_type": "code",
   "execution_count": 1,
   "id": "e64a67a1",
   "metadata": {},
   "outputs": [],
   "source": [
    "import json\n",
    "import numpy as np\n",
    "import os"
   ]
  },
  {
   "cell_type": "code",
   "execution_count": 2,
   "id": "9e5c8b39",
   "metadata": {},
   "outputs": [],
   "source": [
    "def write(d, f):\n",
    "    json.dump(d, f)\n",
    "    f.write(\"\\n\")"
   ]
  },
  {
   "cell_type": "code",
   "execution_count": 16,
   "id": "380ee762",
   "metadata": {},
   "outputs": [],
   "source": [
    "# for f in os.listdir(\"/data_ext/v-xinyupi/PLoGAN/data/gan_corpus/ver_train_src.jsonl\"):\n",
    "\n",
    "current_input = None\n",
    "is_gold = []\n",
    "conclusions = []\n",
    "last_input = None\n",
    "with open(\"/data_ext/v-xinyupi/PLoGAN/data/gan_corpus/gen_valid_src.jsonl\", \"r\") as fr:\n",
    "    with open(\"/data_ext/v-xinyupi/PLoGAN/data/gan_corpus_squeezed/gen_valid_src.jsonl\", \"w\") as fw:\n",
    "        lines = fr.readlines()\n",
    "        cnt = 1\n",
    "        for l in lines:\n",
    "            dic = json.loads(l)\n",
    "            current_input = dic[\"input\"]\n",
    "            ig = dic[\"is_gold\"]\n",
    "            c = dic[\"output\"]\n",
    "\n",
    "            if cnt == len(lines) or (current_input != last_input and last_input != None): # we are affronting a new chunck\n",
    "                new_dic = {\n",
    "                    \"input\" : last_input,\n",
    "                    \"is_gold\":  is_gold,\n",
    "                    \"conclusions\" : conclusions,\n",
    "                }\n",
    "                write(new_dic, fw)\n",
    "                is_gold.clear() # clear up\n",
    "                conclusions.clear()\n",
    "                \n",
    "            conclusions.append(c)\n",
    "            is_gold.append(ig)\n",
    "            last_input = current_input\n",
    "            cnt += 1\n",
    "            "
   ]
  },
  {
   "cell_type": "code",
   "execution_count": 3,
   "id": "72955aab",
   "metadata": {},
   "outputs": [],
   "source": []
  },
  {
   "cell_type": "code",
   "execution_count": 16,
   "id": "16cc8edd",
   "metadata": {},
   "outputs": [],
   "source": [
    "# for f in os.listdir(\"/data_ext/v-xinyupi/PLoGAN/data/gan_corpus/ver_train_src.jsonl\"):\n",
    "\n",
    "current_input = None\n",
    "is_gold = []\n",
    "conclusions = []\n",
    "last_input = None\n",
    "with open(\"/data_ext/v-xinyupi/PLoGAN/data/gan_corpus_new/ver_train_es.jsonl\", \"r\") as fr:\n",
    "    with open(\"/data_ext/v-xinyupi/PLoGAN/data/gan_corpus_squeezed/ver_train_es.jsonl\", \"w\") as fw:\n",
    "        for l in fr.readlines(): \n",
    "            dic = json.loads(l)\n",
    "            current_input = dic[\"input\"]\n",
    "            ig = dic[\"is_gold\"]\n",
    "            c = dic[\"conclusion\"]\n",
    "\n",
    "            if current_input != last_input and last_input != None: # we are affronting a new chunck\n",
    "                new_dic = {\n",
    "                    \"input\" : last_input,\n",
    "                    \"is_gold\":  is_gold,\n",
    "                    \"conclusions\" : conclusions,\n",
    "                }\n",
    "                write(new_dic, fw)\n",
    "                is_gold.clear() # clear up\n",
    "                conclusions.clear()\n",
    "                \n",
    "            conclusions.append(c)\n",
    "            is_gold.append(ig)\n",
    "            last_input = current_input\n",
    "            "
   ]
  },
  {
   "cell_type": "code",
   "execution_count": null,
   "id": "d8e9eee0",
   "metadata": {},
   "outputs": [],
   "source": [
    "# file = \"ver_train_src.jsonl\"\n",
    "# with open(f\"../../data/gan_corpus_new/{file}\", \"r\") as f:\n",
    "#     lines = f.readlines()\n",
    "\n",
    "# with open(f\"../../data/gan_corpus_new/{file}\", \"w\") as f:\n",
    "#     for l in lines:\n",
    "#         dic = json.loads(l)\n",
    "#         new_dic = {\"input\": dic[\"input\"], \"conclusion\": dic[\"output\"], \"is_gold\": 1}\n",
    "#         write(new_dic, f)"
   ]
  },
  {
   "cell_type": "code",
   "execution_count": 15,
   "id": "705d6c7a",
   "metadata": {},
   "outputs": [
    {
     "name": "stdout",
     "output_type": "stream",
     "text": [
      "but, yet, however, even if, although, though, even though, unless, otherwise, nonetheless, oppositely, on the contrary, contrarily, paradoxically, rather than, instead of, nevertheless, despite, in spite of, regardless of\n"
     ]
    }
   ],
   "source": [
    "with open(\"/data_ext/v-xinyupi/PLoGAN/data/Indicators/reverse.txt\", \"r\") as f:\n",
    "    indicators = []\n",
    "    for l in f.readlines():\n",
    "        indicators.append(l.strip())\n",
    "    print(\", \".join(indicators))"
   ]
  },
  {
   "cell_type": "code",
   "execution_count": null,
   "id": "71006c77",
   "metadata": {},
   "outputs": [],
   "source": []
  },
  {
   "cell_type": "code",
   "execution_count": null,
   "id": "bc9f4915",
   "metadata": {},
   "outputs": [],
   "source": []
  },
  {
   "cell_type": "code",
   "execution_count": null,
   "id": "eaa6f9ea",
   "metadata": {},
   "outputs": [],
   "source": []
  },
  {
   "cell_type": "code",
   "execution_count": null,
   "id": "3cd0caaf",
   "metadata": {},
   "outputs": [],
   "source": []
  },
  {
   "cell_type": "code",
   "execution_count": null,
   "id": "7d1afbdf",
   "metadata": {},
   "outputs": [],
   "source": []
  },
  {
   "cell_type": "code",
   "execution_count": null,
   "id": "901fb44a",
   "metadata": {},
   "outputs": [],
   "source": []
  }
 ],
 "metadata": {
  "kernelspec": {
   "display_name": "Python 3",
   "language": "python",
   "name": "python3"
  },
  "language_info": {
   "codemirror_mode": {
    "name": "ipython",
    "version": 3
   },
   "file_extension": ".py",
   "mimetype": "text/x-python",
   "name": "python",
   "nbconvert_exporter": "python",
   "pygments_lexer": "ipython3",
   "version": "3.8.8"
  }
 },
 "nbformat": 4,
 "nbformat_minor": 5
}
